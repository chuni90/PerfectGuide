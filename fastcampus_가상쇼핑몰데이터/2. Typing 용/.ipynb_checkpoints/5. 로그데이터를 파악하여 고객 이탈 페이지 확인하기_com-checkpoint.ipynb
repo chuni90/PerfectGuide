{
 "cells": [
  {
   "cell_type": "code",
   "execution_count": 1,
   "metadata": {},
   "outputs": [],
   "source": [
    "import numpy as np\n",
    "import pandas as pd\n",
    "import seaborn as sns\n",
    "COLORS = sns.color_palette()\n",
    "\n",
    "import matplotlib.pyplot as plt\n",
    "%matplotlib inline"
   ]
  },
  {
   "cell_type": "markdown",
   "metadata": {},
   "source": [
    "## 학습목표\n",
    "1. 로그데이터로 고객 이탈 페이지 확인하기"
   ]
  },
  {
   "cell_type": "markdown",
   "metadata": {},
   "source": [
    "### 웹서버 로그 데이터\n",
    "* 웹서버에 클라이언트로의 요청(Request) 전달 시, 해당 요청에 대한 정보(ip, 시각, 이미지 등)을 기록하는 파일\n",
    "* 기록되는 로그의 포맷(format) 표준이 있으나 설정으로 변경 가능\n",
    "* 로그 데이터는 주로 웹 서버의 디버깅, 데이터 분석 등의 형태로 사용됨\n",
    "* 예제에서 사용하는 형식\n",
    "    - IP / 세션 아이디/ 사용자식별자 / 시각 / 요청페이지 /상태코드/바이트사이즈"
   ]
  },
  {
   "cell_type": "code",
   "execution_count": null,
   "metadata": {},
   "outputs": [],
   "source": [
    "logs"
   ]
  }
 ],
 "metadata": {
  "kernelspec": {
   "display_name": "Python 3",
   "language": "python",
   "name": "python3"
  },
  "language_info": {
   "codemirror_mode": {
    "name": "ipython",
    "version": 3
   },
   "file_extension": ".py",
   "mimetype": "text/x-python",
   "name": "python",
   "nbconvert_exporter": "python",
   "pygments_lexer": "ipython3",
   "version": "3.7.4"
  }
 },
 "nbformat": 4,
 "nbformat_minor": 2
}
