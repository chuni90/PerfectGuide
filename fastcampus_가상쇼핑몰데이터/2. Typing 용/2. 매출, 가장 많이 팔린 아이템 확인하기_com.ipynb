{
 "cells": [
  {
   "cell_type": "markdown",
   "metadata": {},
   "source": [
    "### 학습목표\n",
    "1. 아이템별 지표 확인하기\n",
    "2. 시간별 지역별 판매 지표 확인하기"
   ]
  },
  {
   "cell_type": "code",
   "execution_count": 18,
   "metadata": {},
   "outputs": [],
   "source": [
    "import numpy as np\n",
    "import pandas as pd\n",
    "import seaborn as sns\n",
    "COLORS = sns.color_palette()\n",
    "\n",
    "import matplotlib.pyplot as plt\n",
    "%matplotlib inline"
   ]
  },
  {
   "cell_type": "markdown",
   "metadata": {},
   "source": [
    "#### 데이터 로딩\n",
    "1. 정제된 데이터 사용(retail.csv)"
   ]
  },
  {
   "cell_type": "code",
   "execution_count": 3,
   "metadata": {},
   "outputs": [
    {
     "data": {
      "text/html": [
       "<div>\n",
       "<style scoped>\n",
       "    .dataframe tbody tr th:only-of-type {\n",
       "        vertical-align: middle;\n",
       "    }\n",
       "\n",
       "    .dataframe tbody tr th {\n",
       "        vertical-align: top;\n",
       "    }\n",
       "\n",
       "    .dataframe thead th {\n",
       "        text-align: right;\n",
       "    }\n",
       "</style>\n",
       "<table border=\"1\" class=\"dataframe\">\n",
       "  <thead>\n",
       "    <tr style=\"text-align: right;\">\n",
       "      <th></th>\n",
       "      <th>InvoiceNo</th>\n",
       "      <th>StockCode</th>\n",
       "      <th>Description</th>\n",
       "      <th>Quantity</th>\n",
       "      <th>InvoiceDate</th>\n",
       "      <th>UnitPrice</th>\n",
       "      <th>CustomerID</th>\n",
       "      <th>Country</th>\n",
       "      <th>CheckOutPrice</th>\n",
       "    </tr>\n",
       "  </thead>\n",
       "  <tbody>\n",
       "    <tr>\n",
       "      <td>0</td>\n",
       "      <td>536365</td>\n",
       "      <td>85123A</td>\n",
       "      <td>WHITE HANGING HEART T-LIGHT HOLDER</td>\n",
       "      <td>6</td>\n",
       "      <td>12/1/2010 8:26</td>\n",
       "      <td>2.55</td>\n",
       "      <td>17850</td>\n",
       "      <td>United Kingdom</td>\n",
       "      <td>15.30</td>\n",
       "    </tr>\n",
       "    <tr>\n",
       "      <td>1</td>\n",
       "      <td>536365</td>\n",
       "      <td>71053</td>\n",
       "      <td>WHITE METAL LANTERN</td>\n",
       "      <td>6</td>\n",
       "      <td>12/1/2010 8:26</td>\n",
       "      <td>3.39</td>\n",
       "      <td>17850</td>\n",
       "      <td>United Kingdom</td>\n",
       "      <td>20.34</td>\n",
       "    </tr>\n",
       "    <tr>\n",
       "      <td>2</td>\n",
       "      <td>536365</td>\n",
       "      <td>84406B</td>\n",
       "      <td>CREAM CUPID HEARTS COAT HANGER</td>\n",
       "      <td>8</td>\n",
       "      <td>12/1/2010 8:26</td>\n",
       "      <td>2.75</td>\n",
       "      <td>17850</td>\n",
       "      <td>United Kingdom</td>\n",
       "      <td>22.00</td>\n",
       "    </tr>\n",
       "    <tr>\n",
       "      <td>3</td>\n",
       "      <td>536365</td>\n",
       "      <td>84029G</td>\n",
       "      <td>KNITTED UNION FLAG HOT WATER BOTTLE</td>\n",
       "      <td>6</td>\n",
       "      <td>12/1/2010 8:26</td>\n",
       "      <td>3.39</td>\n",
       "      <td>17850</td>\n",
       "      <td>United Kingdom</td>\n",
       "      <td>20.34</td>\n",
       "    </tr>\n",
       "    <tr>\n",
       "      <td>4</td>\n",
       "      <td>536365</td>\n",
       "      <td>84029E</td>\n",
       "      <td>RED WOOLLY HOTTIE WHITE HEART.</td>\n",
       "      <td>6</td>\n",
       "      <td>12/1/2010 8:26</td>\n",
       "      <td>3.39</td>\n",
       "      <td>17850</td>\n",
       "      <td>United Kingdom</td>\n",
       "      <td>20.34</td>\n",
       "    </tr>\n",
       "  </tbody>\n",
       "</table>\n",
       "</div>"
      ],
      "text/plain": [
       "   InvoiceNo StockCode                          Description  Quantity  \\\n",
       "0     536365    85123A   WHITE HANGING HEART T-LIGHT HOLDER         6   \n",
       "1     536365     71053                  WHITE METAL LANTERN         6   \n",
       "2     536365    84406B       CREAM CUPID HEARTS COAT HANGER         8   \n",
       "3     536365    84029G  KNITTED UNION FLAG HOT WATER BOTTLE         6   \n",
       "4     536365    84029E       RED WOOLLY HOTTIE WHITE HEART.         6   \n",
       "\n",
       "      InvoiceDate  UnitPrice  CustomerID         Country  CheckOutPrice  \n",
       "0  12/1/2010 8:26       2.55       17850  United Kingdom          15.30  \n",
       "1  12/1/2010 8:26       3.39       17850  United Kingdom          20.34  \n",
       "2  12/1/2010 8:26       2.75       17850  United Kingdom          22.00  \n",
       "3  12/1/2010 8:26       3.39       17850  United Kingdom          20.34  \n",
       "4  12/1/2010 8:26       3.39       17850  United Kingdom          20.34  "
      ]
     },
     "execution_count": 3,
     "metadata": {},
     "output_type": "execute_result"
    }
   ],
   "source": [
    "dtypes = {\n",
    "    'UnitPrice': np.float32,\n",
    "    'CustomerID': np.int32,\n",
    "    'Quantity': np.int32\n",
    "}\n",
    "retail = pd.read_csv('../1. Dataset/OnlineRetailClean_me.csv', dtype=dtypes)\n",
    "retail.head()"
   ]
  },
  {
   "cell_type": "markdown",
   "metadata": {},
   "source": [
    "#### 날짜 타입 데이터 변환\n",
    " - 문자열로 로딩하는 것보다 date/datetime 타입으로 로딩하는 것이 분석에 용이"
   ]
  },
  {
   "cell_type": "code",
   "execution_count": 6,
   "metadata": {},
   "outputs": [
    {
     "name": "stdout",
     "output_type": "stream",
     "text": [
      "<class 'pandas.core.frame.DataFrame'>\n",
      "RangeIndex: 397884 entries, 0 to 397883\n",
      "Data columns (total 9 columns):\n",
      "InvoiceNo        397884 non-null int64\n",
      "StockCode        397884 non-null object\n",
      "Description      397884 non-null object\n",
      "Quantity         397884 non-null int32\n",
      "InvoiceDate      397884 non-null object\n",
      "UnitPrice        397884 non-null float32\n",
      "CustomerID       397884 non-null int32\n",
      "Country          397884 non-null object\n",
      "CheckOutPrice    397884 non-null float64\n",
      "dtypes: float32(1), float64(1), int32(2), int64(1), object(4)\n",
      "memory usage: 22.8+ MB\n"
     ]
    }
   ],
   "source": [
    "retail.info()\n",
    "# InvoiceDate는 날짜 type으로 변환 필요"
   ]
  },
  {
   "cell_type": "code",
   "execution_count": 7,
   "metadata": {},
   "outputs": [
    {
     "name": "stdout",
     "output_type": "stream",
     "text": [
      "<class 'pandas.core.frame.DataFrame'>\n",
      "RangeIndex: 397884 entries, 0 to 397883\n",
      "Data columns (total 9 columns):\n",
      "InvoiceNo        397884 non-null int64\n",
      "StockCode        397884 non-null object\n",
      "Description      397884 non-null object\n",
      "Quantity         397884 non-null int32\n",
      "InvoiceDate      397884 non-null datetime64[ns]\n",
      "UnitPrice        397884 non-null float32\n",
      "CustomerID       397884 non-null int32\n",
      "Country          397884 non-null object\n",
      "CheckOutPrice    397884 non-null float64\n",
      "dtypes: datetime64[ns](1), float32(1), float64(1), int32(2), int64(1), object(3)\n",
      "memory usage: 22.8+ MB\n"
     ]
    }
   ],
   "source": [
    "retail['InvoiceDate'] = pd.to_datetime(retail['InvoiceDate'], infer_datetime_format=True)\n",
    "retail.info()  # datetime64[ns]로 type 변경"
   ]
  },
  {
   "cell_type": "markdown",
   "metadata": {},
   "source": [
    "#### 해당 기간 동안의 매출\n",
    " - 전체 매출\n",
    " - 국가별 매출\n",
    " - 월별 매출\n",
    " - 요일별 매출\n",
    " - 시간별 매출"
   ]
  },
  {
   "cell_type": "markdown",
   "metadata": {},
   "source": [
    "#### 전체 매출"
   ]
  },
  {
   "cell_type": "code",
   "execution_count": 8,
   "metadata": {},
   "outputs": [
    {
     "data": {
      "text/plain": [
       "8911407.904"
      ]
     },
     "execution_count": 8,
     "metadata": {},
     "output_type": "execute_result"
    }
   ],
   "source": [
    "total_revenue = retail['CheckOutPrice'].sum()\n",
    "total_revenue"
   ]
  },
  {
   "cell_type": "markdown",
   "metadata": {},
   "source": [
    "#### 국가별 매출"
   ]
  },
  {
   "cell_type": "code",
   "execution_count": 15,
   "metadata": {},
   "outputs": [
    {
     "data": {
      "text/plain": [
       "Country\n",
       "United Kingdom          7308392.0\n",
       "Netherlands              285446.0\n",
       "EIRE                     265546.0\n",
       "Germany                  228867.0\n",
       "France                   209024.0\n",
       "Australia                138521.0\n",
       "Spain                     61577.0\n",
       "Switzerland               56444.0\n",
       "Belgium                   41196.0\n",
       "Sweden                    38378.0\n",
       "Japan                     37416.0\n",
       "Norway                    36165.0\n",
       "Portugal                  33440.0\n",
       "Finland                   22546.0\n",
       "Singapore                 21279.0\n",
       "Channel Islands           20450.0\n",
       "Denmark                   18955.0\n",
       "Italy                     17483.0\n",
       "Cyprus                    13590.0\n",
       "Austria                   10199.0\n",
       "Poland                     7335.0\n",
       "Israel                     7222.0\n",
       "Greece                     4761.0\n",
       "Iceland                    4310.0\n",
       "Canada                     3666.0\n",
       "USA                        3580.0\n",
       "Malta                      2726.0\n",
       "Unspecified                2667.0\n",
       "United Arab Emirates       1902.0\n",
       "Lebanon                    1694.0\n",
       "Lithuania                  1661.0\n",
       "European Community         1300.0\n",
       "Brazil                     1144.0\n",
       "RSA                        1002.0\n",
       "Czech Republic              827.0\n",
       "Bahrain                     548.0\n",
       "Saudi Arabia                146.0\n",
       "Name: CheckOutPrice, dtype: float64"
      ]
     },
     "execution_count": 15,
     "metadata": {},
     "output_type": "execute_result"
    }
   ],
   "source": [
    "rev_by_countries = np.round(retail.groupby('Country')['CheckOutPrice'].sum().sort_values(ascending=False),0)\n",
    "rev_by_countries"
   ]
  },
  {
   "cell_type": "markdown",
   "metadata": {},
   "source": [
    "#### 그래프 유틸 함수"
   ]
  },
  {
   "cell_type": "code",
   "execution_count": 57,
   "metadata": {
    "scrolled": true
   },
   "outputs": [
    {
     "data": {
      "image/png": "[encoded data removed]",
      "text/plain": [
       "<Figure size 1152x324 with 1 Axes>"
      ]
     },
     "metadata": {
      "needs_background": "light"
     },
     "output_type": "display_data"
    }
   ],
   "source": [
    "def plot_bar(df, xlabel, ylabel, title) :\n",
    "    plot = df.plot(kind='bar', color=COLORS[-1], figsize=(16,4.5))\n",
    "    plot.set_xlabel(xlabel, fontsize=11)\n",
    "    plot.set_ylabel(ylabel, fontsize=11)\n",
    "    plot.set_title(title, fontsize=13)\n",
    "    plot.set_xticklabels(labels=df.index, rotation=65)\n",
    "    plt.hlines(y=df.mean(), xmin=-1, xmax=len(df.index), colors='r')\n",
    "    plt.show()\n",
    "plot_bar(rev_by_countries, 'Country', 'Revenue', 'Revenue by Country')"
   ]
  },
  {
   "cell_type": "code",
   "execution_count": 31,
   "metadata": {},
   "outputs": [
    {
     "data": {
      "text/plain": [
       "Country\n",
       "United Kingdom          82.0\n",
       "Netherlands              3.2\n",
       "EIRE                     3.0\n",
       "Germany                  2.6\n",
       "France                   2.3\n",
       "Australia                1.6\n",
       "Spain                    0.7\n",
       "Switzerland              0.6\n",
       "Belgium                  0.5\n",
       "Sweden                   0.4\n",
       "Japan                    0.4\n",
       "Norway                   0.4\n",
       "Portugal                 0.4\n",
       "Finland                  0.3\n",
       "Singapore                0.2\n",
       "Channel Islands          0.2\n",
       "Denmark                  0.2\n",
       "Italy                    0.2\n",
       "Cyprus                   0.2\n",
       "Austria                  0.1\n",
       "Poland                   0.1\n",
       "Israel                   0.1\n",
       "Greece                   0.1\n",
       "Iceland                  0.0\n",
       "Canada                   0.0\n",
       "USA                      0.0\n",
       "Malta                    0.0\n",
       "Unspecified              0.0\n",
       "United Arab Emirates     0.0\n",
       "Lebanon                  0.0\n",
       "Lithuania                0.0\n",
       "European Community       0.0\n",
       "Brazil                   0.0\n",
       "RSA                      0.0\n",
       "Czech Republic           0.0\n",
       "Bahrain                  0.0\n",
       "Saudi Arabia             0.0\n",
       "Name: CheckOutPrice, dtype: float64"
      ]
     },
     "execution_count": 31,
     "metadata": {},
     "output_type": "execute_result"
    }
   ],
   "source": [
    "np.round(rev_by_countries / total_revenue * 100,1)"
   ]
  },
  {
   "cell_type": "markdown",
   "metadata": {},
   "source": [
    "#### 월별 매출"
   ]
  },
  {
   "cell_type": "code",
   "execution_count": 44,
   "metadata": {},
   "outputs": [
    {
     "data": {
      "text/plain": [
       "2010_12     572713.890\n",
       "2011_01     569445.040\n",
       "2011_02     447137.350\n",
       "2011_03     595500.760\n",
       "2011_04     469200.361\n",
       "2011_05     678594.560\n",
       "2011_06     661213.690\n",
       "2011_07     600091.011\n",
       "2011_08     645343.900\n",
       "2011_09     952838.382\n",
       "2011_10    1039318.790\n",
       "2011_11    1161817.380\n",
       "2011_12     518192.790\n",
       "Name: CheckOutPrice, dtype: float64"
      ]
     },
     "execution_count": 44,
     "metadata": {},
     "output_type": "execute_result"
    }
   ],
   "source": [
    "def extract_date(date) :\n",
    "    month = str(date.month)\n",
    "    if date.month < 10 :\n",
    "        month = '0' + str(month)\n",
    "    return str(date.year) + \"_\" + month\n",
    "rev_by_revenue = retail.set_index('InvoiceDate').groupby(extract_date)['CheckOutPrice'].sum()\n",
    "rev_by_revenue"
   ]
  },
  {
   "cell_type": "code",
   "execution_count": 63,
   "metadata": {},
   "outputs": [
    {
     "data": {
      "image/png": "[encoded data removed]",
      "text/plain": [
       "<Figure size 1152x324 with 1 Axes>"
      ]
     },
     "metadata": {
      "needs_background": "light"
     },
     "output_type": "display_data"
    },
    {
     "name": "stdout",
     "output_type": "stream",
     "text": [
      "397871   2011-12-09 12:50:00\n",
      "397870   2011-12-09 12:50:00\n",
      "397882   2011-12-09 12:50:00\n",
      "397875   2011-12-09 12:50:00\n",
      "397883   2011-12-09 12:50:00\n",
      "Name: InvoiceDate, dtype: datetime64[ns]\n"
     ]
    }
   ],
   "source": [
    "plot_bar(rev_by_revenue, 'date', 'Revenue', 'Revenue by Date')\n",
    "# 2011년 12월이 매출이 낮은 데, 그건 12월 전체 데이터가 안 들어와서 그럼\n",
    "print(retail['InvoiceDate'].sort_values().tail()) # 12/09 까지만 있음"
   ]
  },
  {
   "cell_type": "markdown",
   "metadata": {},
   "source": [
    "#### 요일별 매출"
   ]
  },
  {
   "cell_type": "code",
   "execution_count": 75,
   "metadata": {},
   "outputs": [
    {
     "data": {
      "text/plain": [
       "0    1367146.411\n",
       "1    1700634.631\n",
       "2    1588336.170\n",
       "3    1976859.070\n",
       "4    1485917.401\n",
       "6     792514.221\n",
       "Name: CheckOutPrice, dtype: float64"
      ]
     },
     "execution_count": 75,
     "metadata": {},
     "output_type": "execute_result"
    }
   ],
   "source": [
    "rev_by_dow = retail.set_index('InvoiceDate').groupby(lambda date : date.dayofweek).sum()['CheckOutPrice']\n",
    "rev_by_dow\n",
    "# 0 : 월, 1 : 화 ~ 6: 일\n",
    "# 5: 토요일 주문이 특이하게 없음.."
   ]
  },
  {
   "cell_type": "code",
   "execution_count": 76,
   "metadata": {},
   "outputs": [
    {
     "data": {
      "image/png": "[encoded data removed]",
      "text/plain": [
       "<Figure size 1152x324 with 1 Axes>"
      ]
     },
     "metadata": {
      "needs_background": "light"
     },
     "output_type": "display_data"
    }
   ],
   "source": [
    "day_list = np.array(['Mon',' Tue', 'Wen','Thur','Fri','Sat','Sun'])\n",
    "rev_by_dow.index = day_list[rev_by_dow.index]\n",
    "plot_bar(rev_by_dow, 'Day of Week', 'Revenne', 'Revenue by Dayofweek')\n",
    "# 목요일까지 완만한 증가세, 금요일 부터 하락, 토욜은 아예 매출 없음"
   ]
  },
  {
   "cell_type": "markdown",
   "metadata": {},
   "source": [
    "#### 시간별 매출"
   ]
  },
  {
   "cell_type": "code",
   "execution_count": 77,
   "metadata": {},
   "outputs": [
    {
     "data": {
      "text/plain": [
       "6           4.250\n",
       "7       31059.210\n",
       "8      282115.630\n",
       "9      842605.171\n",
       "10    1261192.571\n",
       "11    1104558.750\n",
       "12    1378571.480\n",
       "13    1173264.750\n",
       "14     995629.371\n",
       "15     966191.750\n",
       "16     468885.800\n",
       "17     234413.521\n",
       "18     104954.430\n",
       "19      49028.460\n",
       "20      18932.760\n",
       "Name: CheckOutPrice, dtype: float64"
      ]
     },
     "execution_count": 77,
     "metadata": {},
     "output_type": "execute_result"
    }
   ],
   "source": [
    "rev_by_hour = retail.set_index('InvoiceDate').groupby(lambda x : x.hour).sum()['CheckOutPrice']\n",
    "rev_by_hour"
   ]
  },
  {
   "cell_type": "code",
   "execution_count": 78,
   "metadata": {},
   "outputs": [
    {
     "data": {
      "image/png": "[encoded data removed]",
      "text/plain": [
       "<Figure size 1152x324 with 1 Axes>"
      ]
     },
     "metadata": {
      "needs_background": "light"
     },
     "output_type": "display_data"
    }
   ],
   "source": [
    "plot_bar(rev_by_hour, 'Hour', 'Revenue', 'Revenue by Hour')"
   ]
  },
  {
   "cell_type": "markdown",
   "metadata": {},
   "source": [
    "#### 매출 데이터로부터 insight \n",
    " - 전체 매출의 82%가 UK에서 발생\n",
    " - 11년도의 가장 많은 주문이 발생한 달 11월(12월의 전체 데이터가 반영이 되진 않았음)\n",
    "  - 11, 12월의 판매량이 압도(블랙프라이데이, 사이버먼데이, 크리스마스 휴일)\n",
    " - 일주일중 목요일까지는 성장세를 보이다가, 이후로 하락(토요일에는 주문X)\n",
    " - 7시를 시작으로 주문이 시작되어 12시까지 증가세, 15시까지 하락을, 15시 이후 부터 급락)"
   ]
  },
  {
   "cell_type": "markdown",
   "metadata": {},
   "source": [
    "#### 제품별 metrics\n",
    " - Top 10 판매 제품\n",
    " - Top 10 매출 제품"
   ]
  },
  {
   "cell_type": "code",
   "execution_count": 103,
   "metadata": {},
   "outputs": [
    {
     "data": {
      "text/plain": [
       "StockCode\n",
       "23843     80995\n",
       "23166     77916\n",
       "84077     54415\n",
       "22197     49183\n",
       "85099B    46181\n",
       "85123A    36782\n",
       "84879     35362\n",
       "21212     33693\n",
       "23084     27202\n",
       "22492     26076\n",
       "Name: Quantity, dtype: int32"
      ]
     },
     "execution_count": 103,
     "metadata": {},
     "output_type": "execute_result"
    }
   ],
   "source": [
    "top10_selling = retail.groupby('StockCode')['Quantity'].sum().sort_values(ascending=False)[:10]\n",
    "top10_selling"
   ]
  },
  {
   "cell_type": "code",
   "execution_count": 88,
   "metadata": {},
   "outputs": [
    {
     "data": {
      "text/plain": [
       "StockCode\n",
       "23843     168469.60\n",
       "22423     142592.95\n",
       "85123A    100603.50\n",
       "85099B     85220.78\n",
       "23166      81416.73\n",
       "POST       77803.96\n",
       "47566      68844.33\n",
       "84879      56580.34\n",
       "M          53779.93\n",
       "23084      51346.20\n",
       "Name: CheckOutPrice, dtype: float64"
      ]
     },
     "execution_count": 88,
     "metadata": {},
     "output_type": "execute_result"
    }
   ],
   "source": [
    "top_revenue = retail.groupby('StockCode')['CheckOutPrice'].sum().sort_values(ascending=False)[:10]\n",
    "top_revenue"
   ]
  },
  {
   "cell_type": "markdown",
   "metadata": {},
   "source": [
    "#### top 3 아이템의 월별 판매량 추이"
   ]
  },
  {
   "cell_type": "code",
   "execution_count": 101,
   "metadata": {
    "scrolled": true
   },
   "outputs": [
    {
     "data": {
      "text/html": [
       "<div>\n",
       "<style scoped>\n",
       "    .dataframe tbody tr th:only-of-type {\n",
       "        vertical-align: middle;\n",
       "    }\n",
       "\n",
       "    .dataframe tbody tr th {\n",
       "        vertical-align: top;\n",
       "    }\n",
       "\n",
       "    .dataframe thead th {\n",
       "        text-align: right;\n",
       "    }\n",
       "</style>\n",
       "<table border=\"1\" class=\"dataframe\">\n",
       "  <thead>\n",
       "    <tr style=\"text-align: right;\">\n",
       "      <th></th>\n",
       "      <th></th>\n",
       "      <th>Quantity</th>\n",
       "      <th>CheckOutPrice</th>\n",
       "    </tr>\n",
       "    <tr>\n",
       "      <th>StockCode</th>\n",
       "      <th></th>\n",
       "      <th></th>\n",
       "      <th></th>\n",
       "    </tr>\n",
       "  </thead>\n",
       "  <tbody>\n",
       "    <tr>\n",
       "      <td rowspan=\"5\" valign=\"top\">10002</td>\n",
       "      <td>2010_12</td>\n",
       "      <td>224</td>\n",
       "      <td>190.40</td>\n",
       "    </tr>\n",
       "    <tr>\n",
       "      <td>2011_01</td>\n",
       "      <td>337</td>\n",
       "      <td>286.45</td>\n",
       "    </tr>\n",
       "    <tr>\n",
       "      <td>2011_02</td>\n",
       "      <td>50</td>\n",
       "      <td>42.50</td>\n",
       "    </tr>\n",
       "    <tr>\n",
       "      <td>2011_03</td>\n",
       "      <td>23</td>\n",
       "      <td>19.55</td>\n",
       "    </tr>\n",
       "    <tr>\n",
       "      <td>2011_04</td>\n",
       "      <td>189</td>\n",
       "      <td>160.65</td>\n",
       "    </tr>\n",
       "    <tr>\n",
       "      <td>...</td>\n",
       "      <td>...</td>\n",
       "      <td>...</td>\n",
       "      <td>...</td>\n",
       "    </tr>\n",
       "    <tr>\n",
       "      <td rowspan=\"5\" valign=\"top\">POST</td>\n",
       "      <td>2011_08</td>\n",
       "      <td>237</td>\n",
       "      <td>5185.95</td>\n",
       "    </tr>\n",
       "    <tr>\n",
       "      <td>2011_09</td>\n",
       "      <td>279</td>\n",
       "      <td>5894.50</td>\n",
       "    </tr>\n",
       "    <tr>\n",
       "      <td>2011_10</td>\n",
       "      <td>338</td>\n",
       "      <td>7993.50</td>\n",
       "    </tr>\n",
       "    <tr>\n",
       "      <td>2011_11</td>\n",
       "      <td>460</td>\n",
       "      <td>10349.95</td>\n",
       "    </tr>\n",
       "    <tr>\n",
       "      <td>2011_12</td>\n",
       "      <td>123</td>\n",
       "      <td>2760.00</td>\n",
       "    </tr>\n",
       "  </tbody>\n",
       "</table>\n",
       "<p>30407 rows × 2 columns</p>\n",
       "</div>"
      ],
      "text/plain": [
       "                   Quantity  CheckOutPrice\n",
       "StockCode                                 \n",
       "10002     2010_12       224         190.40\n",
       "          2011_01       337         286.45\n",
       "          2011_02        50          42.50\n",
       "          2011_03        23          19.55\n",
       "          2011_04       189         160.65\n",
       "...                     ...            ...\n",
       "POST      2011_08       237        5185.95\n",
       "          2011_09       279        5894.50\n",
       "          2011_10       338        7993.50\n",
       "          2011_11       460       10349.95\n",
       "          2011_12       123        2760.00\n",
       "\n",
       "[30407 rows x 2 columns]"
      ]
     },
     "execution_count": 101,
     "metadata": {},
     "output_type": "execute_result"
    }
   ],
   "source": [
    "retail.set_index('InvoiceDate').groupby(['StockCode', extract_date]).sum()[['Quantity','CheckOutPrice']]"
   ]
  },
  {
   "cell_type": "code",
   "execution_count": 104,
   "metadata": {},
   "outputs": [
    {
     "data": {
      "text/plain": [
       "StockCode\n",
       "23843    80995\n",
       "23166    77916\n",
       "84077    54415\n",
       "Name: Quantity, dtype: int32"
      ]
     },
     "execution_count": 104,
     "metadata": {},
     "output_type": "execute_result"
    }
   ],
   "source": [
    "top3_selling = retail.groupby('StockCode')['Quantity'].sum().sort_values(ascending=False)[:3]\n",
    "top3_selling"
   ]
  },
  {
   "cell_type": "code",
   "execution_count": 107,
   "metadata": {
    "scrolled": true
   },
   "outputs": [
    {
     "data": {
      "text/html": [
       "<div>\n",
       "<style scoped>\n",
       "    .dataframe tbody tr th:only-of-type {\n",
       "        vertical-align: middle;\n",
       "    }\n",
       "\n",
       "    .dataframe tbody tr th {\n",
       "        vertical-align: top;\n",
       "    }\n",
       "\n",
       "    .dataframe thead th {\n",
       "        text-align: right;\n",
       "    }\n",
       "</style>\n",
       "<table border=\"1\" class=\"dataframe\">\n",
       "  <thead>\n",
       "    <tr style=\"text-align: right;\">\n",
       "      <th></th>\n",
       "      <th></th>\n",
       "      <th>Quantity</th>\n",
       "      <th>CheckOutPrice</th>\n",
       "    </tr>\n",
       "    <tr>\n",
       "      <th>StockCode</th>\n",
       "      <th></th>\n",
       "      <th></th>\n",
       "      <th></th>\n",
       "    </tr>\n",
       "  </thead>\n",
       "  <tbody>\n",
       "    <tr>\n",
       "      <td rowspan=\"9\" valign=\"top\">23166</td>\n",
       "      <td>2011_01</td>\n",
       "      <td>74215</td>\n",
       "      <td>77183.60</td>\n",
       "    </tr>\n",
       "    <tr>\n",
       "      <td>2011_05</td>\n",
       "      <td>792</td>\n",
       "      <td>869.04</td>\n",
       "    </tr>\n",
       "    <tr>\n",
       "      <td>2011_06</td>\n",
       "      <td>391</td>\n",
       "      <td>458.51</td>\n",
       "    </tr>\n",
       "    <tr>\n",
       "      <td>2011_07</td>\n",
       "      <td>718</td>\n",
       "      <td>826.94</td>\n",
       "    </tr>\n",
       "    <tr>\n",
       "      <td>2011_08</td>\n",
       "      <td>405</td>\n",
       "      <td>486.09</td>\n",
       "    </tr>\n",
       "    <tr>\n",
       "      <td>2011_09</td>\n",
       "      <td>342</td>\n",
       "      <td>397.26</td>\n",
       "    </tr>\n",
       "    <tr>\n",
       "      <td>2011_10</td>\n",
       "      <td>235</td>\n",
       "      <td>283.67</td>\n",
       "    </tr>\n",
       "    <tr>\n",
       "      <td>2011_11</td>\n",
       "      <td>631</td>\n",
       "      <td>708.11</td>\n",
       "    </tr>\n",
       "    <tr>\n",
       "      <td>2011_12</td>\n",
       "      <td>187</td>\n",
       "      <td>203.51</td>\n",
       "    </tr>\n",
       "    <tr>\n",
       "      <td>23843</td>\n",
       "      <td>2011_12</td>\n",
       "      <td>80995</td>\n",
       "      <td>168469.60</td>\n",
       "    </tr>\n",
       "    <tr>\n",
       "      <td rowspan=\"13\" valign=\"top\">84077</td>\n",
       "      <td>2010_12</td>\n",
       "      <td>5139</td>\n",
       "      <td>1150.47</td>\n",
       "    </tr>\n",
       "    <tr>\n",
       "      <td>2011_01</td>\n",
       "      <td>1488</td>\n",
       "      <td>385.44</td>\n",
       "    </tr>\n",
       "    <tr>\n",
       "      <td>2011_02</td>\n",
       "      <td>3457</td>\n",
       "      <td>795.17</td>\n",
       "    </tr>\n",
       "    <tr>\n",
       "      <td>2011_03</td>\n",
       "      <td>3888</td>\n",
       "      <td>943.20</td>\n",
       "    </tr>\n",
       "    <tr>\n",
       "      <td>2011_04</td>\n",
       "      <td>10224</td>\n",
       "      <td>2281.44</td>\n",
       "    </tr>\n",
       "    <tr>\n",
       "      <td>2011_05</td>\n",
       "      <td>4944</td>\n",
       "      <td>1249.44</td>\n",
       "    </tr>\n",
       "    <tr>\n",
       "      <td>2011_06</td>\n",
       "      <td>1920</td>\n",
       "      <td>533.76</td>\n",
       "    </tr>\n",
       "    <tr>\n",
       "      <td>2011_07</td>\n",
       "      <td>3600</td>\n",
       "      <td>982.56</td>\n",
       "    </tr>\n",
       "    <tr>\n",
       "      <td>2011_08</td>\n",
       "      <td>2256</td>\n",
       "      <td>654.24</td>\n",
       "    </tr>\n",
       "    <tr>\n",
       "      <td>2011_09</td>\n",
       "      <td>3462</td>\n",
       "      <td>985.70</td>\n",
       "    </tr>\n",
       "    <tr>\n",
       "      <td>2011_10</td>\n",
       "      <td>8174</td>\n",
       "      <td>1953.98</td>\n",
       "    </tr>\n",
       "    <tr>\n",
       "      <td>2011_11</td>\n",
       "      <td>4500</td>\n",
       "      <td>1294.20</td>\n",
       "    </tr>\n",
       "    <tr>\n",
       "      <td>2011_12</td>\n",
       "      <td>1363</td>\n",
       "      <td>376.65</td>\n",
       "    </tr>\n",
       "  </tbody>\n",
       "</table>\n",
       "</div>"
      ],
      "text/plain": [
       "                   Quantity  CheckOutPrice\n",
       "StockCode                                 \n",
       "23166     2011_01     74215       77183.60\n",
       "          2011_05       792         869.04\n",
       "          2011_06       391         458.51\n",
       "          2011_07       718         826.94\n",
       "          2011_08       405         486.09\n",
       "          2011_09       342         397.26\n",
       "          2011_10       235         283.67\n",
       "          2011_11       631         708.11\n",
       "          2011_12       187         203.51\n",
       "23843     2011_12     80995      168469.60\n",
       "84077     2010_12      5139        1150.47\n",
       "          2011_01      1488         385.44\n",
       "          2011_02      3457         795.17\n",
       "          2011_03      3888         943.20\n",
       "          2011_04     10224        2281.44\n",
       "          2011_05      4944        1249.44\n",
       "          2011_06      1920         533.76\n",
       "          2011_07      3600         982.56\n",
       "          2011_08      2256         654.24\n",
       "          2011_09      3462         985.70\n",
       "          2011_10      8174        1953.98\n",
       "          2011_11      4500        1294.20\n",
       "          2011_12      1363         376.65"
      ]
     },
     "execution_count": 107,
     "metadata": {},
     "output_type": "execute_result"
    }
   ],
   "source": [
    "monthly_top3 = retail.set_index('InvoiceDate').groupby(['StockCode', extract_date])\\\n",
    "      .sum()[['Quantity','CheckOutPrice']].loc[top3_selling.index]\n",
    "monthly_top3"
   ]
  },
  {
   "cell_type": "code",
   "execution_count": 108,
   "metadata": {},
   "outputs": [
    {
     "data": {
      "image/png": "[encoded data removed]",
      "text/plain": [
       "<Figure size 1152x324 with 1 Axes>"
      ]
     },
     "metadata": {
      "needs_background": "light"
     },
     "output_type": "display_data"
    }
   ],
   "source": [
    "plot_bar(monthly_top3['CheckOutPrice'], 'Pro/mon', 'Revenue', 'Revenue by Top3 items')"
   ]
  }
 ],
 "metadata": {
  "kernelspec": {
   "display_name": "Python 3",
   "language": "python",
   "name": "python3"
  },
  "language_info": {
   "codemirror_mode": {
    "name": "ipython",
    "version": 3
   },
   "file_extension": ".py",
   "mimetype": "text/x-python",
   "name": "python",
   "nbconvert_exporter": "python",
   "pygments_lexer": "ipython3",
   "version": "3.7.4"
  }
 },
 "nbformat": 4,
 "nbformat_minor": 2
}
